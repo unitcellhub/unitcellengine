{
 "cells": [
  {
   "cell_type": "code",
   "execution_count": null,
   "id": "cec21941-9f3b-4590-834b-a4f0db0e7493",
   "metadata": {},
   "outputs": [],
   "source": [
    "import os\n",
    "os.chdir(\"..\")"
   ]
  },
  {
   "cell_type": "code",
   "execution_count": 15,
   "id": "7fe20a53-93f1-4218-8137-93dceb8ce1ef",
   "metadata": {},
   "outputs": [],
   "source": [
    "from unitcellengine.design import UnitcellDesign, UnitcellDesigns\n",
    "import numpy as np\n",
    "import pyvista as pv\n",
    "from tqdm.notebook import tqdm\n",
    "import plotly.graph_objects as go\n",
    "from pathlib import Path\n",
    "\n",
    "# Set numpy precision to allow for better printout of homogenized matrices\n",
    "np.set_printoptions(precision=4)"
   ]
  },
  {
   "cell_type": "markdown",
   "id": "7515e6a1-d0f1-412d-8115-bfe2b4df7b87",
   "metadata": {},
   "source": [
    "# Single point design"
   ]
  },
  {
   "cell_type": "markdown",
   "id": "27218d69-86c6-44d5-a03e-7251e1c51249",
   "metadata": {},
   "source": [
    "Create a single point design of a unit aspect ratio Octet truss lattice and investigate its properties.\n",
    "Note that, in the default setup, the assumed material has a modulus of elasticity of 1 and Poisson's ratio of 0.3."
   ]
  },
  {
   "cell_type": "code",
   "execution_count": null,
   "id": "d03ebab2-7f43-4334-b618-9205effde603",
   "metadata": {},
   "outputs": [],
   "source": [
    "# Define unitcell\n",
    "design = UnitcellDesign('Octet', 1, 1, 1, thickness=0.1)\n",
    "\n",
    "# The default behavior is to reuse existing date. Set to False to force regeneration.\n",
    "reuse = False\n",
    "\n",
    "# Generate geometry (which calculated properties like relative density and relative surface area)\n",
    "design.generateGeometry(reuse=reuse)\n",
    "\n",
    "# Generate mesh\n",
    "design.generateMesh(reuse=reuse)\n",
    "\n",
    "# Calculate homogenized elastic properties\n",
    "design.homogenizationElastic.run(reuse)\n",
    "\n",
    "# Post process homogenization results\n",
    "design.homogenizationElastic.process()\n",
    "\n",
    "# Calculate homogenized conductance properties\n",
    "design.homogenizationConductance.run(reuse)\n",
    "\n",
    "# Post process conductance results\n",
    "design.homogenizationConductance.process()\n",
    "\n",
    "# Print the homogenizated stiffness matrix\n",
    "print(design.homogenizationElastic)\n",
    "print(design.homogenizationConductance)"
   ]
  },
  {
   "cell_type": "markdown",
   "id": "82d92468-fa5d-4bfd-a1cd-42518cb4abe3",
   "metadata": {},
   "source": [
    "## Visualize geometry"
   ]
  },
  {
   "cell_type": "markdown",
   "id": "0d41e13c-ca91-4da4-8c20-c0fdab03a1b6",
   "metadata": {},
   "source": [
    "The scalar colors corresponds to the underlying signed-distance field, which defines the distance of a point to the closed point on the geometry surface (thus, a value of 0 corresponds to the surface of the geometry).\n",
    "\n",
    "Note: the python package \"trame\", along with the trame-jupyter-extension jupyter extension, \n",
    "are required for display of an interactive plot. See https://tutorial.pyvista.org/tutorial/00_jupyter/index.html\n",
    "for more details"
   ]
  },
  {
   "cell_type": "code",
   "execution_count": null,
   "id": "d1c37a54-69df-4e5a-a74c-bb666497c6ef",
   "metadata": {
    "scrolled": true
   },
   "outputs": [],
   "source": [
    "geometry = design.geometry.visualizeVTK()\n",
    "geometry.plot()"
   ]
  },
  {
   "cell_type": "code",
   "execution_count": null,
   "id": "ba3051eb-e561-4c4a-be19-f6532958fc81",
   "metadata": {},
   "outputs": [],
   "source": [
    "design = UnitcellDesign('Simple cubic', 1, 1, 1)\n",
    "geometry = design.geometry.visualizeVTK()\n",
    "mesh = geometry.extract_geometry().triangulate()\n",
    "mesh.flip_normals()\n",
    "mesh.plot()"
   ]
  },
  {
   "cell_type": "markdown",
   "id": "4c189562",
   "metadata": {},
   "source": [
    "This geometry can be exported to an STL (or other surface geometry form like obj or ply)."
   ]
  },
  {
   "cell_type": "code",
   "execution_count": null,
   "id": "97ab881e-ab0a-4b43-b78e-f7a4b69bd267",
   "metadata": {},
   "outputs": [],
   "source": [
    "geometry = design.geometry.visualizeVTK()\n",
    "mesh = geometry.extract_geometry().triangulate()\n",
    "mesh.flip_normals()\n",
    "mesh.save(\"geometry.stl\")"
   ]
  },
  {
   "cell_type": "markdown",
   "id": "004913e6",
   "metadata": {},
   "source": [
    "Additionally, the resolution of the generated geometry can be increased at the cost of increased generation time.\n",
    "This is done by specifying the discretization size of the geometry through its \"elementSize\" property.\n",
    "This property is defined relative to the thickness parameter of the unitcell.\n",
    "So, a value of 1/4 corresponds to a discretization that can fit 4 discrete elements across the thickness of the unitcell beams/faces.\n",
    "Thus, as elementSize decreases, the resolution increases."
   ]
  },
  {
   "cell_type": "code",
   "execution_count": null,
   "id": "c4448f6c",
   "metadata": {},
   "outputs": [],
   "source": [
    "design.geometry.elementSize = 0.25\n",
    "geometry = design.geometry.visualizeVTK()\n",
    "mesh = geometry.extract_geometry().triangulate()\n",
    "mesh.flip_normals()\n",
    "mesh.plot()"
   ]
  },
  {
   "cell_type": "markdown",
   "id": "444e8ac2",
   "metadata": {},
   "source": [
    "## Fillets in graph unitcells"
   ]
  },
  {
   "cell_type": "markdown",
   "id": "4da60ea5",
   "metadata": {},
   "source": [
    "Graph unitcells are defined by sets of beams and faces.\n",
    "At the intersection of these beams and faces, it is possible to specify a fillet radius.\n",
    "This is done by specifying the \"radius\" parameter in the UnitcellDesign, which defines the fillet radius relative to the beam/face thickness.\n",
    "For example, if the beam/face thickness is 0.3 mm and radius=0.5, then the corresponding fillet radius of 0.5*0.3mm=0.15 mm.\n",
    "The below example shows the same \"Simple Cubic\" unitcell with varying fillet radii."
   ]
  },
  {
   "cell_type": "code",
   "execution_count": null,
   "id": "7966884a",
   "metadata": {},
   "outputs": [],
   "source": [
    "meshes = []\n",
    "pl = pv.Plotter(shape=(1, 3))\n",
    "for i, radius in enumerate([0., 0.5, 1.]):\n",
    "    design = UnitcellDesign('Simple cubic', 1, 1, 1, radius=radius)\n",
    "    geometry = design.geometry.visualizeVTK()\n",
    "    mesh = geometry.extract_geometry().triangulate()\n",
    "    mesh.flip_normals()\n",
    "    pl.subplot(0, i)\n",
    "    pl.add_mesh(mesh)\n",
    "    pl.add_text(f\"Radius: {radius}\")\n",
    "\n",
    "pl.link_views()\n",
    "pl.view_isometric()\n",
    "pl.show()\n",
    "\n"
   ]
  },
  {
   "cell_type": "markdown",
   "id": "aa1453d0-594e-49a0-99f6-22d7ff7282f0",
   "metadata": {
    "jp-MarkdownHeadingCollapsed": true
   },
   "source": [
    "## Visualize anistropy of elastic properties"
   ]
  },
  {
   "cell_type": "markdown",
   "id": "ae7e197c-a66c-49f1-acb3-a163cf9b70f0",
   "metadata": {},
   "source": [
    "For more details regaring the below visualizations, see Nordmann, J., Aßmus, M., & Altenbach, H. (2018). *Visualising elastic anisotropy: theoretical background and computational implementation*. Continuum Mechanics and Thermodynamics, 30, 689-708."
   ]
  },
  {
   "cell_type": "code",
   "execution_count": 22,
   "id": "11e5e28b",
   "metadata": {},
   "outputs": [],
   "source": [
    "# Define unitcell\n",
    "design = UnitcellDesign('Octet', 1, 1, 1, thickness=0.1)\n",
    "\n",
    "# Reuse data calculate earlier in the notebook\n",
    "reuse = True"
   ]
  },
  {
   "cell_type": "markdown",
   "id": "048b0bef",
   "metadata": {},
   "source": [
    "Plotting the directional dependence of the lattice stiffness provides insight into the anisotropy of the structure.\n",
    "If the structure was isotropic, the corresponding plot would be a sphere as the stiffness is the same in all loading directions.\n",
    "As the plot deviates from the sphere, the anisotropy of the structure increases."
   ]
  },
  {
   "cell_type": "code",
   "execution_count": null,
   "id": "8156b2ed-5ff1-413f-9cc9-2f2a2607a5a4",
   "metadata": {},
   "outputs": [],
   "source": [
    "design.homogenizationElastic.plotE()"
   ]
  },
  {
   "cell_type": "markdown",
   "id": "218878eb",
   "metadata": {},
   "source": [
    "Visualization and interpretation of the other structural properties, like shear modulus (plotG) and Poisson's ratio (plotNu), is more challenging because of their depending on both loading direction and plane of reference. \n",
    "Below is an example of the shear modulus properties.\n"
   ]
  },
  {
   "cell_type": "code",
   "execution_count": null,
   "id": "807411b0-0cdc-40d5-b737-b454b5bff7b7",
   "metadata": {
    "scrolled": true
   },
   "outputs": [],
   "source": [
    "design.homogenizationElastic.plotG()"
   ]
  },
  {
   "cell_type": "markdown",
   "id": "d26456a7-dc99-4228-97e8-4a061c70056f",
   "metadata": {},
   "source": [
    "# Export design to a centeralized database"
   ]
  },
  {
   "cell_type": "markdown",
   "id": "2ed2e879-2056-48ec-b585-dafca4167e52",
   "metadata": {},
   "source": [
    "Export to a centeralized HDF5 database"
   ]
  },
  {
   "cell_type": "code",
   "execution_count": null,
   "id": "9a056169-99d3-4d57-aabf-a8eecff4b98d",
   "metadata": {},
   "outputs": [],
   "source": [
    "design.export()"
   ]
  },
  {
   "cell_type": "markdown",
   "id": "1f1e2bf2-445a-4859-ba11-40ae3d99e448",
   "metadata": {},
   "source": [
    "The centralized database is located in the root database folder and can be found as follows:"
   ]
  },
  {
   "cell_type": "code",
   "execution_count": null,
   "id": "9d4db2bb-9b96-41ac-8193-d69307a0db42",
   "metadata": {},
   "outputs": [],
   "source": [
    "design.databaseFilename"
   ]
  },
  {
   "cell_type": "markdown",
   "id": "e6c8b924-e2ad-4148-b406-40b7b8aa6b8e",
   "metadata": {},
   "source": [
    "# Design groups"
   ]
  },
  {
   "cell_type": "markdown",
   "id": "e7e8f629-1616-47a8-bfed-308fa30a86be",
   "metadata": {},
   "source": [
    "Generate the properties for a set of lattices and manage their properties as a group."
   ]
  },
  {
   "cell_type": "code",
   "execution_count": null,
   "id": "d6e5e28e-3be8-4385-b594-1237b02f0b79",
   "metadata": {},
   "outputs": [],
   "source": [
    "cases = [\n",
    "    dict(length=1, width=1, height=1, thickness=0.2),\n",
    "    dict(length=2, width=1, height=1, thickness=0.2),\n",
    "    dict(length=3, width=1, height=1, thickness=0.2),\n",
    "    dict(length=4, width=1, height=1, thickness=0.2),\n",
    "]\n",
    "\n",
    "# The default behavior is to reuse existing date. Set to False to force regeneration.\n",
    "reuse = False\n",
    "\n",
    "for case in tqdm(cases):\n",
    "    # Define unitcell\n",
    "    design = UnitcellDesign('Gyroid', **case)\n",
    "    \n",
    "    # Generate geometry (which calculated properties like relative density and relative surface area)\n",
    "    design.generateGeometry(reuse=reuse)\n",
    "    \n",
    "    # Generate mesh\n",
    "    design.generateMesh(reuse=reuse)\n",
    "    \n",
    "    # Calculate homogenized elastic properties\n",
    "    design.homogenizationElastic.run(reuse=reuse, solver='iterative')\n",
    "    \n",
    "    # Post process homogenization results\n",
    "    design.homogenizationElastic.process(reuse=False)"
   ]
  },
  {
   "cell_type": "markdown",
   "id": "e684d145-429b-4718-8910-0d097f922621",
   "metadata": {},
   "source": [
    "Load the data for all of the Octet truss designs"
   ]
  },
  {
   "cell_type": "code",
   "execution_count": null,
   "id": "660ee8c4-7d4a-41c9-a9b7-d6585bdde4a4",
   "metadata": {},
   "outputs": [],
   "source": [
    "designs = UnitcellDesigns(\"Gyroid\", form=\"walledtpms\")"
   ]
  },
  {
   "cell_type": "markdown",
   "id": "15a400ed-53b7-4187-a163-8de36a161207",
   "metadata": {},
   "source": [
    "Get various properties from the set of unitcell designs"
   ]
  },
  {
   "cell_type": "code",
   "execution_count": null,
   "id": "a91e0f0b-a936-437b-ad56-4001b50c192c",
   "metadata": {},
   "outputs": [],
   "source": [
    "fig = go.Figure()\n",
    "fig.add_trace(go.Scatter(x=designs.lengths, y=designs.relativeDensities))\n",
    "fig.update_xaxes(title=\"Unitcell length\")\n",
    "fig.update_yaxes(title=\"Relative density\")"
   ]
  },
  {
   "cell_type": "markdown",
   "id": "63b28e99-3433-44b1-9399-1453edd3db2c",
   "metadata": {},
   "source": [
    "Calculate the normalized elastic stiffness in the 1 direction (i.e., length-wise direction)"
   ]
  },
  {
   "cell_type": "code",
   "execution_count": null,
   "id": "a0dab5ea-da31-4049-9c9c-ccaf73e735c1",
   "metadata": {},
   "outputs": [],
   "source": [
    "E11s = [d.homogenizationElastic.Ei([1, 0, 0]) for d in designs.designs]\n",
    "fig = go.Figure()\n",
    "fig.add_trace(go.Scatter(x=designs.relativeDensities, y=E11s))\n",
    "fig.update_yaxes(title=\"E<sub>11</sub>\")\n",
    "fig.update_xaxes(title=\"Relative density\")"
   ]
  },
  {
   "cell_type": "markdown",
   "id": "4ea3be8c",
   "metadata": {},
   "source": [
    "# Create a custom unitcell"
   ]
  },
  {
   "cell_type": "markdown",
   "id": "f86b6f12",
   "metadata": {},
   "source": [
    "UnitcellEngine currently allows for the creation of custom \"graph\" style unitcells. \n",
    "To do so, a template for the unitcell geometry needs to be created.\n",
    "This template is a python dictionary with the keys, \"node\", \"beam\", and \"face\":\n",
    "- \"node\" is an Nx3 numpy array defining the coordinates of N vertices in the unitcell geometry.\n",
    "- \"beam\" is [] or None if the unitcell has no beams; otherwise, it is an Mx2 numpy array defining the vertex connectivity of M beams by specifying the \"node\" integer indeces for the starting and ending points (noting that 0 indexing is used)\n",
    "- \"face\" is [] or None if the unitcell has no faces; otherwise, it is an PxQ numpy array defining the vertex connectivity of P faces by specifying the \"node\" integer indeces for the Q points in the face ordered in a clock-wise direction (i.e., order matters). Faces can be triangles (Q=3) or quadralaterals (Q=4). If it is desirable to mix triangles and quadralaterals, set Q=4 and specify an index of -1 in the last column for any triangle references. \n",
    "T"
   ]
  },
  {
   "cell_type": "markdown",
   "id": "be7c72f9",
   "metadata": {},
   "source": [
    "\n",
    "Here, we'll replicate the creation of the simple cubic unitcell from scratch."
   ]
  },
  {
   "cell_type": "code",
   "execution_count": null,
   "id": "75dbb536",
   "metadata": {},
   "outputs": [],
   "source": [
    "template = {\n",
    "    \"node\": np.array(\n",
    "        [\n",
    "            [-0.5, -0.5, -0.5],\n",
    "            [0.5, -0.5, -0.5],\n",
    "            [-0.5, 0.5, -0.5],\n",
    "            [0.5, 0.5, -0.5],\n",
    "            [-0.5, -0.5, 0.5],\n",
    "            [0.5, -0.5, 0.5],\n",
    "            [-0.5, 0.5, 0.5],\n",
    "            [0.5, 0.5, 0.5],\n",
    "        ]\n",
    "    ),\n",
    "    \"beam\": np.array(\n",
    "        [\n",
    "            [0, 1],\n",
    "            [0, 2],\n",
    "            [2, 3],\n",
    "            [1, 3],\n",
    "            [4, 5],\n",
    "            [4, 6],\n",
    "            [6, 7],\n",
    "            [5, 7],\n",
    "            [0, 4],\n",
    "            [1, 5],\n",
    "            [2, 6],\n",
    "            [3, 7],\n",
    "        ]\n",
    "    ),\n",
    "    \"face\": {},\n",
    "}\n",
    "custom = dict(name=\"Custom Simple Cubic\", definition=template)\n",
    "design = UnitcellDesign(\n",
    "    custom,\n",
    "    1,\n",
    "    1,\n",
    "    3,\n",
    "    thickness=0.3,\n",
    "    radius=0.1,\n",
    "    # directory=Path(__file__).parent / Path(\"tests\"),\n",
    "    elementSize=0.5,\n",
    "    form=\"graph\",\n",
    ")\n",
    "design.geometry.run(reuse=False, export=True)"
   ]
  },
  {
   "cell_type": "code",
   "execution_count": null,
   "id": "8f691258",
   "metadata": {},
   "outputs": [],
   "source": [
    "geometry = design.geometry.visualizeVTK()\n",
    "mesh = geometry.extract_geometry().triangulate()\n",
    "mesh.flip_normals()\n",
    "mesh.plot()"
   ]
  },
  {
   "cell_type": "code",
   "execution_count": null,
   "id": "5926e2ec",
   "metadata": {},
   "outputs": [],
   "source": []
  }
 ],
 "metadata": {
  "kernelspec": {
   "display_name": ".venv",
   "language": "python",
   "name": "python3"
  },
  "language_info": {
   "codemirror_mode": {
    "name": "ipython",
    "version": 3
   },
   "file_extension": ".py",
   "mimetype": "text/x-python",
   "name": "python",
   "nbconvert_exporter": "python",
   "pygments_lexer": "ipython3",
   "version": "3.10.15"
  }
 },
 "nbformat": 4,
 "nbformat_minor": 5
}
